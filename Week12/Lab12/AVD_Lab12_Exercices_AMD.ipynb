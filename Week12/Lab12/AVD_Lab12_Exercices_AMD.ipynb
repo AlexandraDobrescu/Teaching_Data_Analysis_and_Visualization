{
 "cells": [
  {
   "cell_type": "markdown",
   "metadata": {},
   "source": [
    "# Analyse et visualisation de données - Automne 2023 - Laboratoire 12\n",
    "\n",
    "©: Alexandra-Maria DOBRESCU | <alexandramaria.digital@gmail.com>"
   ]
  },
  {
   "cell_type": "markdown",
   "metadata": {},
   "source": [
    "### Analyse de sentiments avec NLTK\n",
    "\n",
    "Installez NLTK et télécharger les données nécessaires\n",
    "\n",
    "```\n",
    "pip install nltk\n",
    "```"
   ]
  },
  {
   "cell_type": "markdown",
   "metadata": {},
   "source": [
    "Téléchargez les données nécessaires pour NLTK en exécutant le code suivant:\n",
    "\n",
    "```\n",
    "import nltk\n",
    "nltk.download('vader_lexicon')\n",
    "```"
   ]
  },
  {
   "cell_type": "markdown",
   "metadata": {},
   "source": [
    "### Analyse de sentiments à l'aide de SentimentIntensityAnalyzer de NLTK\n",
    "\n",
    "Utilisez la classe `SentimentIntensityAnalyzer` du module NLTK `nltk.sentiment` pour effectuer une analyse de sentiment sur un texte donné. Fournissez quelques exemples de textes et imprimez leurs scores de sentiment."
   ]
  },
  {
   "cell_type": "code",
   "execution_count": null,
   "metadata": {},
   "outputs": [],
   "source": [
    "from nltk.sentiment import SentimentIntensityAnalyzer\n",
    "\n",
    "def analyze_sentiment(text):\n",
    "    sid = SentimentIntensityAnalyzer()\n",
    "    sentiment_score = sid.polarity_scores(text)['compound']\n",
    "\n",
    "    if sentiment_score >= 0.05:\n",
    "        return 'Positive'\n",
    "    elif sentiment_score <= -0.05:\n",
    "        return 'Negative'\n",
    "    else:\n",
    "        return 'Neutral'\n",
    "\n",
    "# Example texts\n",
    "text1 = \"I love this product! It's amazing.\"\n",
    "text2 = \"I can't stand the terrible service from this company.\"\n",
    "text3 = \"This movie is okay, nothing special.\"\n",
    "\n",
    "# Analyze and print sentiments\n",
    "print(f\"Text 1: {analyze_sentiment(text1)}\")\n",
    "print(f\"Text 2: {analyze_sentiment(text2)}\")\n",
    "print(f\"Text 3: {analyze_sentiment(text3)}\")"
   ]
  },
  {
   "cell_type": "markdown",
   "metadata": {},
   "source": [
    "### Défi: Analyser les sentiments dans un ensemble de données\n",
    "\n",
    "Prolongez l'exercice en chargeant un ensemble de données contenant des critiques textuelles (positives et négatives) et effectuez une analyse des sentiments sur chaque critique. Vous pouvez utiliser un ensemble de données comme celui des critiques de films IMDb ou tout autre ensemble de données que vous préférez."
   ]
  },
  {
   "cell_type": "code",
   "execution_count": null,
   "metadata": {},
   "outputs": [],
   "source": [
    "import pandas as pd\n",
    "\n",
    "# Load your dataset (replace 'your_dataset.csv' with the actual dataset)\n",
    "# For example, you can use the IMDb movie reviews dataset\n",
    "# df = pd.read_csv('your_dataset.csv')\n",
    "\n",
    "# Assuming the dataset has a 'review' column\n",
    "df['sentiment'] = df['review'].apply(analyze_sentiment)\n",
    "\n",
    "# Print a sample of reviews and their corresponding sentiments\n",
    "print(df[['review', 'sentiment']].head(10))"
   ]
  },
  {
   "cell_type": "markdown",
   "metadata": {},
   "source": [
    "Regroupez ou représentez visuellement les scores de sentiment obtenus, en favorisant une compréhension plus profonde des modèles et des tendances au sein de l'ensemble de données."
   ]
  }
 ],
 "metadata": {
  "kernelspec": {
   "display_name": "Python 3.9.6 ('cons_env')",
   "language": "python",
   "name": "python3"
  },
  "language_info": {
   "name": "python",
   "version": "3.9.6"
  },
  "orig_nbformat": 4,
  "vscode": {
   "interpreter": {
    "hash": "70dd76b79ed79c95451decd5e70d6a2c8aee3dd2a9a67deadc4aff996d681e03"
   }
  }
 },
 "nbformat": 4,
 "nbformat_minor": 2
}
