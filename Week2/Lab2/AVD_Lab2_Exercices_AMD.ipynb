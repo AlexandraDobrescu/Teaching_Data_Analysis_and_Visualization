{
 "cells": [
  {
   "cell_type": "markdown",
   "metadata": {},
   "source": [
    "# Analyse et visualisation de données - Automne 2023 - Laboratoire 2\n",
    "\n",
    "©: Alexandra-Maria DOBRESCU | <alexandramaria.digital@gmail.com>"
   ]
  },
  {
   "cell_type": "markdown",
   "metadata": {},
   "source": [
    "Téléchargez Smartwatch [dataset d'analyse de données](https://www.kaggle.com/datasets/arashnic/fitbit), qui est disponible publiquement sur Kaggle.\n",
    "Vous pouvez commencer par le premier fichier `dailyActivity_merged.csv`."
   ]
  },
  {
   "cell_type": "markdown",
   "metadata": {},
   "source": [
    "### Tâche 1\n",
    "\n",
    "Installer les bibliothèques suivantes et écrire les imports correspondants pour:\n",
    "\n",
    "```python\n",
    "    pandas\n",
    "    numpy\n",
    "    matplotlib\n",
    "    plotly\n",
    "```"
   ]
  },
  {
   "cell_type": "code",
   "execution_count": null,
   "metadata": {},
   "outputs": [],
   "source": [
    "# Your impelementation here:\n",
    "\n"
   ]
  },
  {
   "cell_type": "markdown",
   "metadata": {},
   "source": [
    "### Tâche 2\n",
    "\n",
    "Convertissez le csv en dataframe et visualisez les 10 premiers éléments à l'aide de la fonction `.head()`."
   ]
  },
  {
   "cell_type": "code",
   "execution_count": null,
   "metadata": {},
   "outputs": [],
   "source": [
    "# Your implementation:\n"
   ]
  },
  {
   "cell_type": "markdown",
   "metadata": {},
   "source": [
    "### Tâche 3\n",
    "\n",
    "**a.** Vérifiez si cet ensemble de données contient des valeurs nulles ou non;\n",
    "\n",
    "**b.** Vérifiez si les informations sur les colonnes du dataset sont correctes ou non; Avons-nous des éléments `objets` ?\n",
    "\n",
    "**c.** Convertissez la colonne `ActivityDate` en une colonne de type datetime.\n",
    "\n",
    "**d.** Affichez les statistiques descriptives de l'ensemble de données (moyenne, min, écart-type)."
   ]
  },
  {
   "cell_type": "code",
   "execution_count": null,
   "metadata": {},
   "outputs": [],
   "source": [
    "# Your impelementation here:\n",
    "\n"
   ]
  },
  {
   "cell_type": "markdown",
   "metadata": {},
   "source": [
    "### Tâche 4\n",
    "\n",
    "L'ensemble de données comporte une colonne `Calories` et contient les données relatives au nombre de calories brûlées au cours d'une journée. \n",
    "Vous devez générer un diagramme de dispersion dans lequel sur l'axe X se trouvent les Calories, tandis que sur l'axe Y se trouvent les minutes de très grande activité. Quelle est la relation entre ces deux variables ?\n",
    "\n",
    "Vous devez sauvegarder votre graphique avec un nom significatif, dans un nouveau répertoire appelé stats."
   ]
  },
  {
   "cell_type": "code",
   "execution_count": null,
   "metadata": {},
   "outputs": [],
   "source": [
    "# Your implementation here\n",
    "\n",
    "'TO DO'"
   ]
  },
  {
   "cell_type": "markdown",
   "metadata": {},
   "source": [
    "### Tâche 5\n",
    "\n",
    "Vous devez générer un diagramme circulaire avec le nombre total moyen de minutes d'activité par jour. Utilisez les colonnes `VeryActiveMinutes`, `FairlyActiveMinutes`, `LightlyActiveMinutes`, `SedentaryMinutes`.\n",
    "\n",
    "Vous devez sauvegarder votre graphique avec un nom significatif, dans un nouveau répertoire appelé stats. \n",
    "Expliquez vos observations en termes de pourcentages."
   ]
  },
  {
   "cell_type": "code",
   "execution_count": null,
   "metadata": {},
   "outputs": [],
   "source": [
    "# Your implementation here\n",
    "\n",
    "'TO DO'"
   ]
  }
 ],
 "metadata": {
  "kernelspec": {
   "display_name": "Python 3.9.6 ('cons_env')",
   "language": "python",
   "name": "python3"
  },
  "language_info": {
   "codemirror_mode": {
    "name": "ipython",
    "version": 3
   },
   "file_extension": ".py",
   "mimetype": "text/x-python",
   "name": "python",
   "nbconvert_exporter": "python",
   "pygments_lexer": "ipython3",
   "version": "3.9.6"
  },
  "vscode": {
   "interpreter": {
    "hash": "70dd76b79ed79c95451decd5e70d6a2c8aee3dd2a9a67deadc4aff996d681e03"
   }
  }
 },
 "nbformat": 4,
 "nbformat_minor": 4
}
