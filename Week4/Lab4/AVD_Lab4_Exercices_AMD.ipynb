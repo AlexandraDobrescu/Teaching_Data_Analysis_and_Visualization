{
 "cells": [
  {
   "cell_type": "markdown",
   "metadata": {},
   "source": [
    "# Analyse et visualisation de données - Automne 2023 - Laboratoire 4\n",
    "\n",
    "©: Alexandra-Maria DOBRESCU | <alexandramaria.digital@gmail.com>"
   ]
  },
  {
   "cell_type": "markdown",
   "metadata": {},
   "source": [
    "### Tâche 1\n",
    "\n",
    "Utilisez les dix fichiers `.json` que vous trouverez dans le répertoire **Data**.\n",
    "\n",
    "Avant **d'analyser les données**, vous devez les nettoyer et les adapter à votre tâche.\n",
    "\n",
    "Il y a quelques contraintes :\n",
    "\n",
    "* Lorsque vous rencontrez un emoji, vous devez le remplacer par la chaîne `\"emoji_hidden\"`.\n",
    "* Un fichier json doit toujours avoir toutes ses clés, à noter : `\"Choose Kindness\"`, `\"Author\"`, `\"Publication\"` et `\"Additional Information\"`. S'il manque une valeur pour ces clés, enregistrez-la sous la forme d'une chaîne vide.\n",
    "\n",
    "_Obs:_ La seule règle s'applique à l'`\"Auteur\"` : Chaîne `\"Student\"` + numéro du fichier json.\n",
    "\n",
    "Très ❗ Important ❗ Un fichier json doit être valide. Pour cela, 2 erreurs principales ont été introduites volontairement: virgule manquante et paranthèse manquante. Au cours de cette phase de nettoyage, ces erreurs doivent être corrigées.\n",
    "\n",
    "Sauvegarder les fichiers json corrigés avec le nom original et le sufix  `_fixed`."
   ]
  },
  {
   "cell_type": "markdown",
   "metadata": {},
   "source": [
    "**énorme indice Emojis**: Utilisez la bibliothèque des emoji pour vérifier si un caractère est un emoji :\n",
    "\n",
    "```python\n",
    "\n",
    "import emoji\n",
    "\n",
    "def is_emoji(character):\n",
    "    return emoji.emoji_count(character) > 0\n",
    "```"
   ]
  },
  {
   "cell_type": "code",
   "execution_count": null,
   "metadata": {},
   "outputs": [],
   "source": [
    "# Your impelementation here:\n",
    "\n",
    "# TODO"
   ]
  },
  {
   "cell_type": "markdown",
   "metadata": {},
   "source": [
    "Essayez d'écrire votre code **proprement** et d'utiliser ces blocs `try-except`. \n",
    "\n",
    "```python\n",
    "\n",
    "import json\n",
    "\n",
    "def is_json_format_valid(json_str):\n",
    "    try:\n",
    "        # Try to load the JSON data\n",
    "        json_data = json.loads(json_str)\n",
    "        return True  # Format is valid\n",
    "    except json.JSONDecodeError as e:\n",
    "        print(f\"JSON decoding error: {e}\")\n",
    "        return False  # Format is not valid\n",
    "\n",
    "```\n",
    "\n",
    "Si votre fichier json est cassé, vous devez construire d'autres fonctions auxiliaires pour le réparer. Il serait intéressant d'avoir un script Python qui fasse cette correction automatiquement pour les dix fichiers.\n",
    "\n",
    "```python\n",
    "fixed_json = fix_missing_bracket(original_json_str)\n",
    "```"
   ]
  },
  {
   "cell_type": "code",
   "execution_count": null,
   "metadata": {},
   "outputs": [],
   "source": [
    "# Your impelementation here:\n",
    "\n",
    "# TODO"
   ]
  },
  {
   "cell_type": "markdown",
   "metadata": {},
   "source": [
    "### Tâche 2\n",
    "Néanmoins, sauvegardez vos statistiques !",
    "\n",
    "Nous utiliserons les \"corner-cases\" dans le prochain laboratoire pour construire des graphiques permettant qui nous permettront d'exprimer notre point de vue (insights delivery)."
   ]
  }
 ],
 "metadata": {
  "kernelspec": {
   "display_name": "Python 3.9.6 ('cons_env')",
   "language": "python",
   "name": "python3"
  },
  "language_info": {
   "codemirror_mode": {
    "name": "ipython",
    "version": 3
   },
   "file_extension": ".py",
   "mimetype": "text/x-python",
   "name": "python",
   "nbconvert_exporter": "python",
   "pygments_lexer": "ipython3",
   "version": "3.9.6"
  },
  "vscode": {
   "interpreter": {
    "hash": "70dd76b79ed79c95451decd5e70d6a2c8aee3dd2a9a67deadc4aff996d681e03"
   }
  }
 },
 "nbformat": 4,
 "nbformat_minor": 4
}
