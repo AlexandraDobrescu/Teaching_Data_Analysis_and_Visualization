{
 "cells": [
  {
   "cell_type": "markdown",
   "metadata": {},
   "source": [
    "# Analyse et visualisation de données - Automne 2023 - Laboratoire 3\n",
    "\n",
    "©: Alexandra-Maria DOBRESCU | <alexandramaria.digital@gmail.com>"
   ]
  },
  {
   "cell_type": "markdown",
   "metadata": {},
   "source": [
    "Téléchargez Smartwatch [dataset d'analyse de données](https://www.kaggle.com/datasets/arashnic/fitbit), qui est disponible publiquement sur Kaggle.\n",
    "Vous pouvez commencer par le premier fichier `dailyActivity_merged.csv`."
   ]
  },
  {
   "cell_type": "markdown",
   "metadata": {},
   "source": [
    "### Tâche 1\n",
    "\n",
    "Vous pouvez utiliser le même ensemble de données que la semaine précédente et générer 3 types de diagrammes à barres :\n",
    "1) Jour de la semaine vs. Pas\n",
    "2) Jour de la semaine vs. Calories brûlées\n",
    "3) Jour de la semaine vs. Minutes très actives\n",
    "\n",
    "❗ Important ❗\n",
    "\n",
    "Pour obtenir le maximum de points, utilisez des couleurs différentes pour chaque diagramme.\n",
    "Chaque diagramme doit comporter une étiquette sur les deux axes et un titre évocateur.\n",
    "Enfin, sauvegardez-les avec un nom significatif en tant qu'image séparée."
   ]
  },
  {
   "cell_type": "code",
   "execution_count": null,
   "metadata": {},
   "outputs": [],
   "source": [
    "# Your impelementation here:\n",
    "\n",
    "# TODO"
   ]
  },
  {
   "cell_type": "markdown",
   "metadata": {},
   "source": [
    "### Tâche 2\n",
    "\n",
    "Jouons avec la bibliothèque [PIL](https://pypi.org/project/Pillow/). Installez-la rapidement et utilisez-la pour créer une image fusionnée à partir des trois digrammes générés précédemment.\n",
    "\n",
    "Ensuite, jouons avec les fonctionnalités `Markdown` de chargement d'une image. \n",
    "Après avoir généré l'image fusionnée, vous pouvez la charger ici, en utilisant :\n",
    "\n",
    "\n",
    "```python\n",
    "\n",
    "![title](path_to_img)\n",
    "\n",
    "```\n",
    "\n",
    "❗ Important ❗\n",
    "\n",
    "Pour obtenir le maximum de points, écrivez vos réflexions sur ce que vous observez en analysant chaque jour de la semaine en fonction des trois indicateurs mentionnés précédemment: Pas, Calories brûlées, Minutes très actives."
   ]
  },
  {
   "cell_type": "code",
   "execution_count": null,
   "metadata": {},
   "outputs": [],
   "source": [
    "# Your implementation:\n",
    "\n",
    "# TODO"
   ]
  }
 ],
 "metadata": {
  "kernelspec": {
   "display_name": "Python 3.9.6 ('cons_env')",
   "language": "python",
   "name": "python3"
  },
  "language_info": {
   "codemirror_mode": {
    "name": "ipython",
    "version": 3
   },
   "file_extension": ".py",
   "mimetype": "text/x-python",
   "name": "python",
   "nbconvert_exporter": "python",
   "pygments_lexer": "ipython3",
   "version": "3.9.6"
  },
  "vscode": {
   "interpreter": {
    "hash": "70dd76b79ed79c95451decd5e70d6a2c8aee3dd2a9a67deadc4aff996d681e03"
   }
  }
 },
 "nbformat": 4,
 "nbformat_minor": 4
}
