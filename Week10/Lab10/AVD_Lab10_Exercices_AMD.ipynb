{
 "cells": [
  {
   "cell_type": "markdown",
   "metadata": {},
   "source": [
    "# Analyse et visualisation de données - Automne 2023 - Laboratoire 10\n",
    "\n",
    "©: Alexandra-Maria DOBRESCU | <alexandramaria.digital@gmail.com>"
   ]
  },
  {
   "cell_type": "markdown",
   "metadata": {},
   "source": [
    "* L'ensemble de données se compose de variables qui décrivent les caractéristiques des bâtiments de variables climatiques et météorologiques pour les régions dans lesquelles les bâtiments sont situés.\n",
    "La variable ciblée est l'intensité de l'utilisation de l'énergie du site: `site_eui`.\n",
    "\n",
    "* Cet ensemble de données a déjà été divisé pour vous en données de formation et en données de test."
   ]
  },
  {
   "cell_type": "markdown",
   "metadata": {},
   "source": [
    "### Tâche 1 (3 points)\n",
    "\n",
    "**Visualisation:**\n",
    "\n",
    "Créez 3 graphiques pour les variables catégorielles et leur distribution individuelle."
   ]
  },
  {
   "cell_type": "markdown",
   "metadata": {},
   "source": [
    "### Tâche 2 (3 points)\n",
    "\n",
    "**Visualisation:**\n",
    "\n",
    "Créez 3 graphiques pour les variables catégorielles et leur distribution corrélée avec une variable numérique."
   ]
  },
  {
   "cell_type": "markdown",
   "metadata": {},
   "source": [
    "### Tâche 3 (3 points)\n",
    "\n",
    "**Visualisation:**\n",
    "\n",
    "Créez 3 graphiques pour les variables numériques et leur distribution individuelle."
   ]
  },
  {
   "cell_type": "markdown",
   "metadata": {},
   "source": [
    "### Contraintes:\n",
    "\n",
    "* Pour chaque tâche, vous pouvez utiliser le même type de graphique pour deux variables *seulement*. Vous avez donc besoin de deux types de graphiques différents.\n",
    "\n",
    "* Vous devez justifier votre choix lorsque vous choisissez le graphique pour une variable (il y a plus de 60 caractéristiques).\n",
    "\n",
    "* Pour obtenir la note maximale (10), vous devez écrire l'idée que vous vous faites de votre graphique par rapport à vos données et au problème que vous essayez de résoudre."
   ]
  }
 ],
 "metadata": {
  "kernelspec": {
   "display_name": "Python 3.9.6 ('cons_env')",
   "language": "python",
   "name": "python3"
  },
  "language_info": {
   "name": "python",
   "version": "3.9.6"
  },
  "orig_nbformat": 4,
  "vscode": {
   "interpreter": {
    "hash": "70dd76b79ed79c95451decd5e70d6a2c8aee3dd2a9a67deadc4aff996d681e03"
   }
  }
 },
 "nbformat": 4,
 "nbformat_minor": 2
}
