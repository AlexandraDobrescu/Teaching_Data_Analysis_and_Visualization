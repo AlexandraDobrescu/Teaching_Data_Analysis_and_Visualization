{
 "cells": [
  {
   "cell_type": "markdown",
   "metadata": {},
   "source": [
    "# Analyse et visualisation de données - Automne 2023 - Laboratoire 5\n",
    "\n",
    "©: Alexandra-Maria DOBRESCU | <alexandramaria.digital@gmail.com>"
   ]
  },
  {
   "cell_type": "markdown",
   "metadata": {},
   "source": [
    "### Tâche 1\n",
    "\n",
    "Exigences :\n",
    "- les fichiers json corrigés du laboratoire précédent,\n",
    "- vos statistiques sauvegardées après avoir corrigé les cas particuliers. \n",
    "\n",
    "Questions Pertinentes:\n",
    "\n",
    "- Combien de fichiers corrompus par rapport aux bons fichiers ?\n",
    "- Combien d'emojis remplacés ?\n",
    "- Combien de clés manquantes / clés et valeurs ?\n",
    "- Combien de paranthèses ou de virgules à ajouter ?\n",
    "\n",
    "Créez un diagramme circulaire des cas particuliers. Considérez les catégories principales suivantes: Bons fichiers `.json`, Problèmes de structure, Problèmes de format.\n",
    "\n",
    "Ensuite, essayez de détailler les problèmes de structure et de format avec les problèmes rencontrés. \n",
    "Vous pouvez utiliser un [Bar of Pie Chart](https://matplotlib.org/stable/gallery/pie_and_polar_charts/bar_of_pie.html)."
   ]
  },
  {
   "cell_type": "markdown",
   "metadata": {},
   "source": [
    "### Tâche 2\n",
    "\n",
    "Créez votre propre diagramme pour présenter l'état du prétraitement.\n",
    "\n",
    "Exigences :\n",
    "- créativité\n",
    "- compétences techniques"
   ]
  },
  {
   "cell_type": "markdown",
   "metadata": {},
   "source": [
    "### Tâche 3\n",
    "\n",
    "Construisez un tableau unique pour les 10 fichiers `.json` fixés. \n",
    "\n",
    "Faites-le de manière sage et suivez les conseils :\n",
    "- utiliser la bibliothèque pandas (`read_json()`),\n",
    "- on doit les concaténer.\n",
    "\n",
    "Ajoutez une nouvelle colonne `\"Grades\"` et remplissez-la comme suit : Pour les valeurs provenant de la clé `\"Author\"` pour lesquelles le nombre d'étudiants est pair, donnez une note aléatoire > 7. Lorsque le nombre d'étudiants est impair, donnez une note aléatoire < 5. S'il n'y a pas d'étudiant, écrivez 'NaN'.\n",
    "\n",
    "Enfin, afficher visuellement le nombre d'étudiants qui ont réussi le cours de AVD. Soyez créatifs !"
   ]
  }
 ],
 "metadata": {
  "kernelspec": {
   "display_name": "Python 3.9.6 ('cons_env')",
   "language": "python",
   "name": "python3"
  },
  "language_info": {
   "codemirror_mode": {
    "name": "ipython",
    "version": 3
   },
   "file_extension": ".py",
   "mimetype": "text/x-python",
   "name": "python",
   "nbconvert_exporter": "python",
   "pygments_lexer": "ipython3",
   "version": "3.9.6"
  },
  "vscode": {
   "interpreter": {
    "hash": "70dd76b79ed79c95451decd5e70d6a2c8aee3dd2a9a67deadc4aff996d681e03"
   }
  }
 },
 "nbformat": 4,
 "nbformat_minor": 4
}
