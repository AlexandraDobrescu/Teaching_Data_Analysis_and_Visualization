{
 "cells": [
  {
   "cell_type": "markdown",
   "metadata": {},
   "source": [
    "# Analyse et visualisation de données - Automne 2023 - Laboratoire 8 - Partie 1\n",
    "\n",
    "©: Alexandra-Maria DOBRESCU | <alexandramaria.digital@gmail.com>"
   ]
  },
  {
   "cell_type": "markdown",
   "metadata": {},
   "source": [
    "❗ **Avis de non-responsabilité / Disclaimer:** ❗ Il s'agit de la première partie du laboratoire. La prochaine partie sera livrée au cours de la semaine prochaine. Donc, si vous voulez réussir pendant les deux prochaines semaines, prenez les deux laboratoires suivants au sérieux."
   ]
  },
  {
   "cell_type": "markdown",
   "metadata": {},
   "source": [
    "### Réseaux bayésiens dynamiques pour l'analyse des séries temporelles\n",
    "\n",
    "**Objectif:**\n",
    "\n",
    "L'objectif de ce travail est d'initier les étudiants aux réseaux bayésiens dynamiques ([DBN](https://pgmpy.org/models/dbn.html)) et à leur application dans la modélisation et la prédiction des données de séries temporelles. Les étudiants doivent implémenter un DBN à l'aide d'une bibliothèque Python ([pgmpy Documentation](https://pgmpy.org/)) et analyser ses performances sur un ensemble de données de séries temporelles."
   ]
  },
  {
   "cell_type": "markdown",
   "metadata": {},
   "source": [
    "### Tâche 1 (2 points)\n",
    "\n",
    "**Sélection de l'ensemble de données:**\n",
    "\n",
    "Choisissez un ensemble de données de séries temporelles avec des dépendances temporelles (par exemple, les prix des actions, les données météorologiques, la surveillance de la santé)."
   ]
  },
  {
   "cell_type": "markdown",
   "metadata": {},
   "source": [
    "### Tâche 2 (2 points)\n",
    "\n",
    "**Prétraitement des données:**\n",
    "\n",
    "Effectuez le prétraitement des données de séries temporelles, y compris le traitement des valeurs manquantes, le traitement des intervalles de temps et la division de l'ensemble de données en ensembles de training et de test."
   ]
  },
  {
   "cell_type": "markdown",
   "metadata": {},
   "source": [
    "### Tâche 3 (4 points)\n",
    "**Mise en œuvre d'un réseau bayésien dynamique:**\n",
    "\n",
    "- Introduisez le concept de réseaux bayésiens dynamiques et leur pertinence pour les données de séries temporelles.\n",
    "- Utilisez une bibliothèque Python (par exemple, pgmpy) pour mettre en œuvre un réseau bayésien dynamique pour l'ensemble de données choisi."
   ]
  },
  {
   "cell_type": "markdown",
   "metadata": {},
   "source": [
    "### Tâche 4 (2 points)\n",
    "**Training et évaluation :**\n",
    "\n",
    "- Entraînez le réseau bayésien dynamique sur l'ensemble d'entraînement.\n",
    "- Évaluez les performances du modèle sur l'ensemble de test à l'aide de mesures de séries temporelles pertinentes (par exemple, l'erreur absolue moyenne, l'erreur quadratique moyenne)."
   ]
  },
  {
   "cell_type": "markdown",
   "metadata": {},
   "source": [
    "### Soumission:\n",
    "\n",
    "* Soumettez un script Python bien documenté ou un carnet Jupyter contenant l'implémentation du réseau bayésien dynamique.\n",
    "* Incluez des commentaires et des explications dans votre code.\n",
    "* Fournissez un rapport résumant l'ensemble de données, les détails de l'implémentation du réseau bayésien dynamique, les mesures d'évaluation et la comparaison avec le modèle de base (la semaine prochaine).\n"
   ]
  },
  {
   "cell_type": "markdown",
   "metadata": {},
   "source": [
    "### Ressources:\n",
    "\n",
    "- Documentation pgmpy\n",
    "- Plateformes en ligne pour trouver des ensembles de données de séries temporelles (par exemple, Kaggle, UCI Machine Learning Repository)."
   ]
  }
 ],
 "metadata": {
  "kernelspec": {
   "display_name": "Python 3.9.6 ('cons_env')",
   "language": "python",
   "name": "python3"
  },
  "language_info": {
   "name": "python",
   "version": "3.9.6"
  },
  "orig_nbformat": 4,
  "vscode": {
   "interpreter": {
    "hash": "70dd76b79ed79c95451decd5e70d6a2c8aee3dd2a9a67deadc4aff996d681e03"
   }
  }
 },
 "nbformat": 4,
 "nbformat_minor": 2
}
