{
 "cells": [
  {
   "cell_type": "markdown",
   "metadata": {},
   "source": [
    "# Analyse et visualisation de données - Automne 2023 - Laboratoire 6\n",
    "\n",
    "©: Alexandra-Maria DOBRESCU | <alexandramaria.digital@gmail.com>"
   ]
  },
  {
   "cell_type": "markdown",
   "metadata": {},
   "source": [
    "Utilisez les imports suivants pour ce laboratoire:"
   ]
  },
  {
   "cell_type": "code",
   "execution_count": null,
   "metadata": {},
   "outputs": [],
   "source": [
    "from sklearn.datasets import load_iris\n",
    "import matplotlib.pyplot as plt\n",
    "from sklearn.cluster import KMeans\n",
    "from sklearn.metrics import silhouette_score\n",
    "from sklearn.metrics import davies_bouldin_score\n",
    "from sklearn.metrics import calinski_harabasz_score"
   ]
  },
  {
   "cell_type": "markdown",
   "metadata": {},
   "source": [
    "Ici, nous chargeons le dataset.\n",
    "\n",
    "```python\n",
    "iris = load_iris()\n",
    "```\n",
    "\n",
    "Nous allons diviser les variables que nous voulons regrouper en 2 : \n",
    "\n",
    "X1 = {`sepal_length`, `sepal_width`},\n",
    "\n",
    "X2 = { `petal_length`, `petal_width`}.\n",
    "\n",
    "*Conseil:*\n",
    "```python\n",
    "X = iris.data[:, :2]\n",
    "```"
   ]
  },
  {
   "cell_type": "markdown",
   "metadata": {},
   "source": [
    "### Tâche 1 (1 point)\n",
    "\n",
    "Créez 2 variables distinctes pour stocker  l'ensemble des caractéristiques que vous allez regrouper."
   ]
  },
  {
   "cell_type": "code",
   "execution_count": null,
   "metadata": {},
   "outputs": [],
   "source": [
    "assert X1.shape == (150, 2), \"Wrong shape division!\""
   ]
  },
  {
   "cell_type": "code",
   "execution_count": null,
   "metadata": {},
   "outputs": [],
   "source": [
    "assert X2.shape == (150, 2), \"Wrong shape division!\""
   ]
  },
  {
   "cell_type": "markdown",
   "metadata": {},
   "source": [
    "### Tâche 2 (1 point)\n",
    "\n",
    "Pour chaque variable X1 et X2, créez un dataframe. Affichez les 10 premières valeurs du tableau."
   ]
  },
  {
   "cell_type": "code",
   "execution_count": null,
   "metadata": {},
   "outputs": [],
   "source": [
    "# TODO\n",
    "# df1"
   ]
  },
  {
   "cell_type": "code",
   "execution_count": null,
   "metadata": {},
   "outputs": [],
   "source": [
    "# TODO\n",
    "# df2"
   ]
  },
  {
   "cell_type": "markdown",
   "metadata": {},
   "source": [
    "### Tâche 3 (2 points)\n",
    "\n",
    "\n",
    "**a)  1 point:** Utilisez le code suivant pour exécuter l'algorithme KMeans. Vous obtiendrez les prédictions dans la variable `labels`. Votre tâche est d'ajouter à chaque dataframe une nouvelle colonne contenant les prédictions obtenues.\n",
    "\n",
    "```python\n",
    "kmeans = KMeans(n_clusters=3, random_state=42)\n",
    "labels = kmeans.fit_predict(X)\n",
    "```"
   ]
  },
  {
   "cell_type": "code",
   "execution_count": null,
   "metadata": {},
   "outputs": [],
   "source": [
    "# TODO"
   ]
  },
  {
   "cell_type": "markdown",
   "metadata": {},
   "source": [
    "**b)  1 point:** Ensuite, exécutez l'algorithme pour 4, 5 clusters.\n",
    "Ajoutez les prédictions obtenues en tant que nouvelles colonnes à chaque dataframe."
   ]
  },
  {
   "cell_type": "code",
   "execution_count": null,
   "metadata": {},
   "outputs": [],
   "source": [
    "# TODO"
   ]
  },
  {
   "cell_type": "markdown",
   "metadata": {},
   "source": [
    "### Tâche 4 (3 points)\n",
    "\n",
    "**a)  2 points:** Calculez la somme des carrés à l'intérieur des clusters, également appelée Inertie, pour trouver le nombre optimal des clusters. \n",
    "\n",
    "*Conseil:* `kmeans.inertia_`\n",
    "\n",
    "**b)  1 point:** \n",
    "\n",
    "- Comment cette valeur évolue-t-elle ? Qu'est-ce que cela signifie ? Ecrivez ici dans une nouvelle cellule markdown.(0.5 p)\n",
    "- Vérifiez-la à chaque itération et représentez-la graphiquement. (0.5 p)"
   ]
  },
  {
   "cell_type": "code",
   "execution_count": null,
   "metadata": {},
   "outputs": [],
   "source": [
    "# TODO a)"
   ]
  },
  {
   "cell_type": "code",
   "execution_count": null,
   "metadata": {},
   "outputs": [],
   "source": [
    "# TODO b)"
   ]
  },
  {
   "cell_type": "markdown",
   "metadata": {},
   "source": [
    "### Tâche 5 (1 point)\n",
    "\n",
    "Après avoir déterminé le nombre idéal de grappes, représentez-les de manière très représentative (par exemple : couleurs distinctes pour chaque cluster, légende, etc.)"
   ]
  },
  {
   "cell_type": "code",
   "execution_count": null,
   "metadata": {},
   "outputs": [],
   "source": [
    "# TODO"
   ]
  },
  {
   "cell_type": "markdown",
   "metadata": {},
   "source": [
    "### Tâche 6  (2 points)\n",
    "\n",
    "Calculez les autres mesures et comparez-les :\n",
    "\n",
    "- (1 point) Choisissez seulement un ensemble de caractéristiques et comparez les étiquettes obtenues pour 3 valeurs différentes de k clusters. \n",
    "\n",
    "```python\n",
    "s = silhouette_score(X, labels)\n",
    "dbi = davies_bouldin_score(X, labels)\n",
    "ch_index = calinski_harabasz_score(X, labels)\n",
    "```\n",
    "\n",
    "- (1 point) Effectuez une comparaison rigoureuse et complétez les phrases :\n",
    "\n",
    "Une valeur plus élevée de ch_index signifie [...] \n",
    "\n",
    "Une valeur plus faible de dbi signifie [...]"
   ]
  },
  {
   "cell_type": "code",
   "execution_count": 1,
   "metadata": {},
   "outputs": [],
   "source": [
    "# TODO\n",
    "# s = ...\n",
    "\n",
    "# TODO\n",
    "# dbi = ...\n",
    "\n",
    "# TODO\n",
    "# ch_index = ..."
   ]
  },
  {
   "cell_type": "markdown",
   "metadata": {},
   "source": [
    "### BONUS\n",
    "\n",
    "Créez un bon graphique avec les mesures obtenues à la tâche 6."
   ]
  }
 ],
 "metadata": {
  "kernelspec": {
   "display_name": "Python 3.9.6 ('cons_env')",
   "language": "python",
   "name": "python3"
  },
  "language_info": {
   "codemirror_mode": {
    "name": "ipython",
    "version": 3
   },
   "file_extension": ".py",
   "mimetype": "text/x-python",
   "name": "python",
   "nbconvert_exporter": "python",
   "pygments_lexer": "ipython3",
   "version": "3.9.6"
  },
  "vscode": {
   "interpreter": {
    "hash": "70dd76b79ed79c95451decd5e70d6a2c8aee3dd2a9a67deadc4aff996d681e03"
   }
  }
 },
 "nbformat": 4,
 "nbformat_minor": 4
}
