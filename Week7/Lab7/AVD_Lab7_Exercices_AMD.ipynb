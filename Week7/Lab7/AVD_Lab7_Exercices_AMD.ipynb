{
 "cells": [
  {
   "cell_type": "markdown",
   "metadata": {},
   "source": [
    "# Analyse et visualisation de données - Automne 2023 - Laboratoire 7\n",
    "\n",
    "©: Alexandra-Maria DOBRESCU | <alexandramaria.digital@gmail.com>"
   ]
  },
  {
   "cell_type": "markdown",
   "metadata": {},
   "source": [
    "### Tâche 1 (2 points)\n",
    "\n",
    "Jouons avec [Locust](https://docs.locust.io/en/stable/quickstart.html).\n",
    "\n",
    "Effectuez une installation rapide dans votre environnement et installez les bibliothèques nécessaires.\n",
    "\n",
    "Vous devriez avoir un fichier `main.py` \n",
    "\n",
    "\n",
    "```python\n",
    "import uvicorn\n",
    "from fastapi import FastAPI\n",
    "\n",
    "app = FastAPI()\n",
    "\n",
    "@app.get('/hello')\n",
    "def hello():\n",
    "    return 'Hello World'\n",
    "\n",
    "if __name__==\"__main__\":\n",
    "    uvicorn.run(app)\n",
    "```\n",
    "\n",
    "et un autre appelé `locustfile.py`.\n",
    "\n",
    "```python\n",
    "from locust import HttpUser, task, between\n",
    "\n",
    "class HelloWorldUser(HttpUser):\n",
    "    wait_time = between(0.5, 2.5)\n",
    "\n",
    "    @task\n",
    "    def hello_world(self):\n",
    "        self.client.get('/hello')\n",
    "```\n",
    "\n",
    "Lancez-la à l'aide de `locust -f ./locustfile.py --host=http://localhost:8000`"
   ]
  },
  {
   "cell_type": "markdown",
   "metadata": {},
   "source": [
    "### Tâche 2 (5 points)\n",
    "\n",
    "Choisissez 3 configurations PERTINENTES pour le nombre d'utilisateurs que vous souhaitez simuler et spécifiez le taux de reproduction.\n",
    "Expliquez les données que vous observez et notez-les dans votre Jupyter Notebook."
   ]
  },
  {
   "cell_type": "markdown",
   "metadata": {},
   "source": [
    "### Tâche 3 (3 points)\n",
    "\n",
    "Rendez cette application plus complexe et répétez la tâche 2."
   ]
  }
 ],
 "metadata": {
  "kernelspec": {
   "display_name": "Python 3.9.6 ('cons_env')",
   "language": "python",
   "name": "python3"
  },
  "language_info": {
   "name": "python",
   "version": "3.9.6"
  },
  "orig_nbformat": 4,
  "vscode": {
   "interpreter": {
    "hash": "70dd76b79ed79c95451decd5e70d6a2c8aee3dd2a9a67deadc4aff996d681e03"
   }
  }
 },
 "nbformat": 4,
 "nbformat_minor": 2
}
