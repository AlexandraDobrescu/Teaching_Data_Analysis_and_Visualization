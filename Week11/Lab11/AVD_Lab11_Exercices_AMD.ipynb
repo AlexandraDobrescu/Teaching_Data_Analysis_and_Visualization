{
 "cells": [
  {
   "cell_type": "markdown",
   "metadata": {},
   "source": [
    "# Analyse et visualisation de données - Automne 2023 - Laboratoire 11\n",
    "\n",
    "©: Alexandra-Maria DOBRESCU | <alexandramaria.digital@gmail.com>"
   ]
  },
  {
   "cell_type": "markdown",
   "metadata": {},
   "source": [
    "Créez un tableau de bord interactif à l'aide de [Dash](https://dash.plotly.com/tutorial) et [Plotly](https://plotly.com/) (présentés pendant le cours) pour visualiser des informations à partir d'un ensemble de données de votre choix.\n",
    "\n",
    "**Instructions:**\n",
    "\n",
    "1. **Choisissez un ensemble de données (1 point):** Sélectionnez un ensemble de données qui vous intéresse.\n",
    "\n",
    "2. **Explorez les données (2 points):** Analysez l'ensemble de données pour en comprendre la structure et les informations potentielles.\n",
    "\n",
    "3. **Conception du tableau de bord:**\n",
    "    * Planifiez la présentation et les composants de votre tableau de bord.\n",
    "    * Tenez compte de l'interaction avec l'utilisateur et des principales visualisations.\n",
    "\n",
    "4. **Mise en œuvre (4 points):**\n",
    "    * Utilisez Dash et Plotly pour construire le tableau de bord.\n",
    "    * Incluez plusieurs visualisations interactives.\n",
    "    \n",
    "5. **Interactivité de l'utilisateur (1 point):** Permettez à l'utilisateur d'interagir au moyen de filtres, de curseurs ou d'autres commandes.\n",
    "\n",
    "6. **Présentation (2 points):** Présentez votre tableau de bord, en mettant en évidence les connaissances acquises, le choix des ensembles de données, la logique de visualisation et les détails techniques."
   ]
  },
  {
   "cell_type": "markdown",
   "metadata": {},
   "source": []
  }
 ],
 "metadata": {
  "kernelspec": {
   "display_name": "Python 3.9.6 ('cons_env')",
   "language": "python",
   "name": "python3"
  },
  "language_info": {
   "name": "python",
   "version": "3.9.6"
  },
  "orig_nbformat": 4,
  "vscode": {
   "interpreter": {
    "hash": "70dd76b79ed79c95451decd5e70d6a2c8aee3dd2a9a67deadc4aff996d681e03"
   }
  }
 },
 "nbformat": 4,
 "nbformat_minor": 2
}
