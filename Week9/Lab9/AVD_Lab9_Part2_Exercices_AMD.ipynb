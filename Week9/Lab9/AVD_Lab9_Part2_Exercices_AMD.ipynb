{
 "cells": [
  {
   "cell_type": "markdown",
   "metadata": {},
   "source": [
    "# Analyse et visualisation de données - Automne 2023 - Laboratoire 9 - Partie 2\n",
    "\n",
    "©: Alexandra-Maria DOBRESCU | <alexandramaria.digital@gmail.com>"
   ]
  },
  {
   "cell_type": "markdown",
   "metadata": {},
   "source": [
    "❗ **Avis de non-responsabilité / Disclaimer:** ❗ Il s'agit de la première partie du laboratoire. La prochaine partie sera livrée au cours de la semaine prochaine. Donc, si vous voulez réussir pendant les deux prochaines semaines, prenez les deux laboratoires suivants au sérieux."
   ]
  },
  {
   "cell_type": "markdown",
   "metadata": {},
   "source": [
    "### Réseaux bayésiens dynamiques pour l'analyse des séries temporelles\n",
    "\n",
    "**Objectif:**\n",
    "\n",
    "L'objectif de ce travail est d'initier les étudiants aux réseaux bayésiens dynamiques ([DBN](https://pgmpy.org/models/dbn.html)) et à leur application dans la modélisation et la prédiction des données de séries temporelles. Les étudiants doivent implémenter un DBN à l'aide d'une bibliothèque Python ([pgmpy Documentation](https://pgmpy.org/)) et analyser ses performances sur un ensemble de données de séries temporelles."
   ]
  },
  {
   "cell_type": "markdown",
   "metadata": {},
   "source": [
    "### Tâche 1 (5 points)\n",
    "\n",
    "**Visualisation:**\n",
    "\n",
    "Créez des visualisations pour illustrer les dépendances apprises et les prédictions du modèle au fil du temps."
   ]
  },
  {
   "cell_type": "markdown",
   "metadata": {},
   "source": [
    "### Tâche 2 (5 points)\n",
    "\n",
    "**Comparaison avec le modèle de référence :**\n",
    "\n",
    "Mettez en œuvre un modèle de série temporelle de référence (par exemple, un modèle autorégressif) à des fins de comparaison.\n",
    "Comparez les performances du réseau bayésien dynamique avec celles du modèle de base."
   ]
  },
  {
   "cell_type": "markdown",
   "metadata": {},
   "source": [
    "### Soumission:\n",
    "\n",
    "* Soumettez un script Python bien documenté ou un carnet Jupyter contenant l'implémentation du réseau bayésien dynamique.\n",
    "* Incluez des commentaires et des explications dans votre code.\n",
    "* Fournissez un rapport résumant l'ensemble de données, les détails de l'implémentation du réseau bayésien dynamique, les mesures d'évaluation et la comparaison avec le modèle de base (la semaine prochaine).\n"
   ]
  },
  {
   "cell_type": "markdown",
   "metadata": {},
   "source": [
    "### Ressources:\n",
    "\n",
    "- Documentation pgmpy\n",
    "- Plateformes en ligne pour trouver des ensembles de données de séries temporelles (par exemple, Kaggle, UCI Machine Learning Repository)."
   ]
  }
 ],
 "metadata": {
  "kernelspec": {
   "display_name": "Python 3.9.6 ('cons_env')",
   "language": "python",
   "name": "python3"
  },
  "language_info": {
   "name": "python",
   "version": "3.9.6"
  },
  "orig_nbformat": 4,
  "vscode": {
   "interpreter": {
    "hash": "70dd76b79ed79c95451decd5e70d6a2c8aee3dd2a9a67deadc4aff996d681e03"
   }
  }
 },
 "nbformat": 4,
 "nbformat_minor": 2
}
